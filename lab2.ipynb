{
  "nbformat": 4,
  "nbformat_minor": 0,
  "metadata": {
    "colab": {
      "provenance": [],
      "authorship_tag": "ABX9TyOqY+ZraKTbOgFuc3Mi1gMP",
      "include_colab_link": true
    },
    "kernelspec": {
      "name": "python3",
      "display_name": "Python 3"
    },
    "language_info": {
      "name": "python"
    }
  },
  "cells": [
    {
      "cell_type": "markdown",
      "metadata": {
        "id": "view-in-github",
        "colab_type": "text"
      },
      "source": [
        "<a href=\"https://colab.research.google.com/github/AloysiusChua0822/ISEPub/blob/main/lab2.ipynb\" target=\"_parent\"><img src=\"https://colab.research.google.com/assets/colab-badge.svg\" alt=\"Open In Colab\"/></a>"
      ]
    },
    {
      "cell_type": "code",
      "execution_count": 2,
      "metadata": {
        "id": "T4-64uvOhkSE",
        "colab": {
          "base_uri": "https://localhost:8080/"
        },
        "outputId": "ab71bbbe-f78f-44ca-8153-245b183473f0"
      },
      "outputs": [
        {
          "output_type": "stream",
          "name": "stdout",
          "text": [
            "JPEG\n",
            "RGB\n",
            "(1920, 1280)\n",
            "None\n"
          ]
        }
      ],
      "source": [
        "from PIL import Image\n",
        "image = Image.open('demo_image.jpg')\n",
        "image.show()\n",
        "# The file format of the source file.\n",
        "print(image.format)# Output: JPEG\n",
        "# The pixel format used by the image. Typical values are \"1\",\"L\",\"RGB\", or \"CMYK.\"\n",
        "print(image.mode)# Output: RGB\n",
        "# Image size, in pixels. The size is given as a 2-tuple (width, height).\n",
        "print(image.size)# Output:(192e,1280)\n",
        "# Colour palette table, if any.\n",
        "print(image.palette)# Output: None\n"
      ]
    },
    {
      "cell_type": "code",
      "source": [
        "image = Image.open('demo_image.jpg')\n",
        "image.save('new_image.png')\n",
        "image = Image.open('new_image.png')\n",
        "print(image.format)"
      ],
      "metadata": {
        "colab": {
          "base_uri": "https://localhost:8080/"
        },
        "id": "ZmrDPXcjNucl",
        "outputId": "bce65961-f732-492e-f840-f1a2a3e62216"
      },
      "execution_count": 12,
      "outputs": [
        {
          "output_type": "stream",
          "name": "stdout",
          "text": [
            "PNG\n"
          ]
        }
      ]
    },
    {
      "cell_type": "code",
      "source": [
        "image = Image.open('demo_image.jpg')\n",
        "new_image = image.resize((400,400))\n",
        "new_image.save('image_400.jpg')\n",
        "\n",
        "print(image.size)\n",
        "print(new_image.size)"
      ],
      "metadata": {
        "colab": {
          "base_uri": "https://localhost:8080/"
        },
        "id": "KPUUbHqDL2e1",
        "outputId": "79846257-b99b-4f75-b699-d3b53b76083c"
      },
      "execution_count": 3,
      "outputs": [
        {
          "output_type": "stream",
          "name": "stdout",
          "text": [
            "(1920, 1280)\n",
            "(400, 400)\n"
          ]
        }
      ]
    },
    {
      "cell_type": "code",
      "source": [
        "image = Image.open('demo_image.jpg')\n",
        "image.thumbnail((400,400))\n",
        "image.save('image_thumbnail.jpg')\n",
        "\n",
        "print(image.size)"
      ],
      "metadata": {
        "colab": {
          "base_uri": "https://localhost:8080/"
        },
        "id": "lKVOXZG5MXxx",
        "outputId": "e32c579e-4685-4324-877f-9a1b9695e998"
      },
      "execution_count": 5,
      "outputs": [
        {
          "output_type": "stream",
          "name": "stdout",
          "text": [
            "(400, 267)\n"
          ]
        }
      ]
    },
    {
      "cell_type": "code",
      "source": [
        "image=Image.open('demo_image.jpg')\n",
        "box = (200,300,700,600)\n",
        "#(left, upper, right, lower)\n",
        "#left: The x-coordinate of the left edge of the box.\n",
        "#upper: The y-coordinate of the upper edge of the box.\n",
        "#right: The x-coordinate of the right edge of the box.\n",
        "#lower: The y-coordinate of the lower edge of the box.\n",
        "cropped_image = image.crop(box)\n",
        "cropped_image.save(\"cropped_image.jpg\")\n",
        "\n",
        "print(cropped_image.size)"
      ],
      "metadata": {
        "colab": {
          "base_uri": "https://localhost:8080/"
        },
        "id": "2ORvrjqRNE15",
        "outputId": "e1981ddf-521b-4f8f-c8d2-380f1a144578"
      },
      "execution_count": 9,
      "outputs": [
        {
          "output_type": "stream",
          "name": "stdout",
          "text": [
            "(500, 300)\n"
          ]
        }
      ]
    },
    {
      "cell_type": "code",
      "source": [
        "image = Image.open('demo_image.jpg')\n",
        "logo = Image.open('logo.png')\n",
        "image_copy = image.copy()\n",
        "position = ((image_copy.width - logo.width), (image_copy.height - logo.height))\n",
        "image_copy.paste(logo,position)\n",
        "image_copy.save('pasted_image.jpg')"
      ],
      "metadata": {
        "id": "CMnw1EuBM0DY"
      },
      "execution_count": 10,
      "outputs": []
    },
    {
      "cell_type": "markdown",
      "source": [
        "Rotation"
      ],
      "metadata": {
        "id": "xvWuSv7NPp9n"
      }
    },
    {
      "cell_type": "code",
      "source": [
        "image = Image.open('demo_image.jpg')\n",
        "image.rotate(18).save('image_rot_18.jpg')\n"
      ],
      "metadata": {
        "id": "kt0ls37EPGEI"
      },
      "execution_count": 15,
      "outputs": []
    },
    {
      "cell_type": "code",
      "source": [
        "image.rotate(18, expand=True).save('image_rot_18.jpg')\n"
      ],
      "metadata": {
        "id": "UH0hJlwvP1_e"
      },
      "execution_count": 14,
      "outputs": []
    },
    {
      "cell_type": "code",
      "source": [
        "image = Image.open('demo_image.jpg')\n",
        "image_flip=image.transpose(Image.FLIP_LEFT_RIGHT)\n",
        "image_flip.save('image_flip.jpg')"
      ],
      "metadata": {
        "id": "BNUP2rxJQDO0"
      },
      "execution_count": 17,
      "outputs": []
    },
    {
      "cell_type": "markdown",
      "source": [
        "Exercise:\n",
        "1.Convert the given image into gray scale.\n",
        "2.Identify how to 'tint' on image.\n",
        "3.Identify how to \"shade\" on image."
      ],
      "metadata": {
        "id": "fxnKUZLNUMWG"
      }
    },
    {
      "cell_type": "code",
      "source": [
        "image = Image.open('demo_image.jpg')\n",
        "\n",
        "# Convert the image to grayscale\n",
        "gray_image = image.convert('L')\n",
        "\n",
        "# Save the grayscale image\n",
        "gray_image.save('gray_new_image.jpg')"
      ],
      "metadata": {
        "id": "uuWPLN4-TUJ0"
      },
      "execution_count": 22,
      "outputs": []
    },
    {
      "cell_type": "code",
      "source": [
        "from PIL import ImageEnhance\n",
        "image = Image.open('demo_image.jpg')\n",
        "\n",
        "# Define a factor for tinting (adjust as needed)\n",
        "tint_factor = 1.0\n",
        "\n",
        "# Create an enhancer object for color\n",
        "color_enhancer = ImageEnhance.Color(image)\n",
        "\n",
        "# Apply the tint using the enhancer\n",
        "tinted_image = color_enhancer.enhance(tint_factor)\n",
        "\n",
        "# Save the tinted image\n",
        "tinted_image.save('tinted_image.jpg')"
      ],
      "metadata": {
        "id": "TawuEh7bVMft"
      },
      "execution_count": 25,
      "outputs": []
    },
    {
      "cell_type": "code",
      "source": [
        "image = Image.open('demo_image.jpg')\n",
        "\n",
        "# Define a factor for shading (adjust as needed)\n",
        "shade_factor = 0.5\n",
        "\n",
        "# Create an enhancer object for brightness\n",
        "brightness_enhancer = ImageEnhance.Brightness(image)\n",
        "\n",
        "# Apply the shade using the enhancer\n",
        "shaded_image = brightness_enhancer.enhance(shade_factor)\n",
        "\n",
        "# Save the shaded image\n",
        "shaded_image.save('shaded_image.jpg')"
      ],
      "metadata": {
        "id": "qNs-rW4bVrfn"
      },
      "execution_count": 26,
      "outputs": []
    }
  ]
}